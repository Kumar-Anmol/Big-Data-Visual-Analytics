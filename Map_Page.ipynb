{
 "cells": [
  {
   "cell_type": "code",
   "execution_count": 1,
   "metadata": {},
   "outputs": [],
   "source": [
    "import pandas as pd\n",
    "import numpy as np\n",
    "import json\n",
    "import geopandas as gpd\n",
    "import plotly.express as px\n",
    "import dash\n",
    "from dash import dcc\n",
    "from dash import html\n",
    "from dash.dependencies import Input, Output"
   ]
  },
  {
   "cell_type": "code",
   "execution_count": 2,
   "metadata": {},
   "outputs": [],
   "source": [
    "# Read \n",
    "india = json.load(open('state/india_states.geojson'))\n",
    "\n",
    "#  Read in the district-level data\n",
    "districts = gpd.read_file('district/india_district.geojson')\n",
    "\n",
    "# # Read in the rainfall data\n",
    "df = pd.read_excel('india_-_monthly_rainfall_data_-_1901_to_2002.xlsx')"
   ]
  },
  {
   "cell_type": "code",
   "execution_count": 3,
   "metadata": {},
   "outputs": [
    {
     "name": "stderr",
     "output_type": "stream",
     "text": [
      "C:\\Users\\mrbha\\AppData\\Local\\Temp\\ipykernel_22464\\2343628423.py:12: ShapelyDeprecationWarning: The 'cascaded_union()' function is deprecated. Use 'unary_union()' instead.\n",
      "  jkld = cascaded_union([jk, ld])\n",
      "C:\\Users\\mrbha\\AppData\\Local\\Temp\\ipykernel_22464\\2343628423.py:27: ShapelyDeprecationWarning: The 'cascaded_union()' function is deprecated. Use 'unary_union()' instead.\n",
      "  apts = cascaded_union([ap, ts])\n"
     ]
    }
   ],
   "source": [
    "# combine ladakh and jammu and kashmir area into one in the geojson file\n",
    "from shapely.geometry import shape, mapping\n",
    "from shapely.ops import cascaded_union\n",
    "for i in range(len(india['features'])):\n",
    "    if india['features'][i]['properties']['ST_NM'] == 'Jammu & Kashmir':\n",
    "        india['features'][i]['properties']['ST_NM'] = 'Jammu and Kashmir and Ladakh'\n",
    "        jk = shape(india['features'][i]['geometry'])\n",
    "    if india['features'][i]['properties']['ST_NM'] == 'Ladakh':\n",
    "        india['features'][i]['properties']['ST_NM'] = 'Jammu and Kashmir and Ladakh'\n",
    "        ld = shape(india['features'][i]['geometry'])\n",
    "\n",
    "jkld = cascaded_union([jk, ld])\n",
    "# remove ladakh and jammu and kashmir area from the geojson file\n",
    "india['features'] = [i for i in india['features'] if i['properties']['ST_NM'] != 'Jammu and Kashmir and Ladakh']\n",
    "# add the combined ladakh and jammu and kashmir area to the geojson file\n",
    "india['features'].append({'type': 'Feature', 'properties': {'ST_NM': 'Jammu & Kashmir'}, 'geometry': mapping(jkld)})\n",
    "\n",
    "# do same for Andhra Pradesh and Telangana\n",
    "for i in range(len(india['features'])):\n",
    "    if india['features'][i]['properties']['ST_NM'] == 'Andhra Pradesh':\n",
    "        india['features'][i]['properties']['ST_NM'] = 'Andhra Pradesh and Telangana'\n",
    "        ap = shape(india['features'][i]['geometry'])\n",
    "    if india['features'][i]['properties']['ST_NM'] == 'Telangana':\n",
    "        india['features'][i]['properties']['ST_NM'] = 'Andhra Pradesh and Telangana'\n",
    "        ts = shape(india['features'][i]['geometry'])\n",
    "    \n",
    "apts = cascaded_union([ap, ts])\n",
    "india['features'] = [i for i in india['features'] if i['properties']['ST_NM'] != 'Andhra Pradesh and Telangana']\n",
    "india['features'].append({'type': 'Feature', 'properties': {'ST_NM': 'Andhra Pradesh'}, 'geometry': mapping(apts)})"
   ]
  },
  {
   "cell_type": "code",
   "execution_count": 4,
   "metadata": {},
   "outputs": [],
   "source": [
    "# create a dictionary to map the state name to a number\n",
    "state_id_map = {}\n",
    "for feature in india['features']:\n",
    "    feature['id'] = feature['properties']['ST_NM']\n",
    "    state_id_map[feature['properties']['ST_NM']] = feature['id']"
   ]
  },
  {
   "cell_type": "code",
   "execution_count": 5,
   "metadata": {},
   "outputs": [],
   "source": [
    "state_id_map['Andaman & Nicobar Islands'] = state_id_map['Andaman & Nicobar']\n",
    "state_id_map['Chattisgarh'] = state_id_map['Chhattisgarh']\n",
    "state_id_map['Orissa'] = state_id_map['Odisha']\n",
    "state_id_map['Pondicherry'] = state_id_map['Puducherry']\n",
    "state_id_map['Dadra & Nagar Haveli'] = state_id_map['Dadra and Nagar Haveli and Daman and Diu']\n",
    "state_id_map['Daman & Diu'] = state_id_map['Dadra and Nagar Haveli and Daman and Diu']\n",
    "state_id_map['Uttaranchal'] = state_id_map['Uttarakhand']"
   ]
  },
  {
   "cell_type": "code",
   "execution_count": 6,
   "metadata": {},
   "outputs": [],
   "source": [
    "df['id'] = df['State'].apply(lambda x: state_id_map[x])"
   ]
  },
  {
   "cell_type": "code",
   "execution_count": 7,
   "metadata": {},
   "outputs": [],
   "source": [
    "def plot_rainfall(month, year):\n",
    "    # choose data for the year 2002\n",
    "    df_dynamic = df[df['Year'] == year]\n",
    "    # group the data by state\n",
    "    df_dynamic = df_dynamic.groupby('State')\n",
    "    # calculate the mean of the rainfall for that month for each state\n",
    "    df_dynamic = df_dynamic[month].mean().reset_index()\n",
    "    # add the id column to the dataframe\n",
    "    df_dynamic['id'] = df_dynamic['State'].apply(lambda x: state_id_map[x])\n",
    "    # plot the choropleth map\n",
    "    fig = px.choropleth(df_dynamic, geojson=india, locations='id', color=month, hover_name='State', hover_data=[month])\n",
    "    fig.update_geos(fitbounds='locations', visible=False)\n",
    "    # make the figure background transparent and text color white\n",
    "    fig.update_layout(margin={\"r\":0,\"t\":0,\"l\":0,\"b\":0}, paper_bgcolor='rgba(0,0,0,0)', plot_bgcolor='rgba(0,0,0,0)', font_color='white')\n",
    "    return fig"
   ]
  },
  {
   "cell_type": "code",
   "execution_count": 8,
   "metadata": {},
   "outputs": [],
   "source": [
    "district_id_map = {}\n",
    "for i in range(len(districts)):\n",
    "    district_id_map[districts['NAME_2'][i]] = districts['ID_2'][i]\n",
    "    # if var2 is not None: then split var2 by , or | and add to dict\n",
    "    if districts['VARNAME_2'][i] is not np.nan:\n",
    "        if '|' in districts['VARNAME_2'][i]:\n",
    "            for var2 in districts['VARNAME_2'][i].split('|'):\n",
    "                district_id_map[var2] = districts['ID_2'][i]\n",
    "        elif ',' in districts['VARNAME_2'][i]:\n",
    "            for var2 in districts['VARNAME_2'][i].split(','):\n",
    "                # remove spaces\n",
    "                var2 = var2.strip()\n",
    "                district_id_map[var2] = districts['ID_2'][i]\n",
    "        else:\n",
    "            district_id_map[districts['VARNAME_2'][i]] = districts['ID_2'][i]"
   ]
  },
  {
   "cell_type": "code",
   "execution_count": 9,
   "metadata": {},
   "outputs": [],
   "source": [
    "district_id_map['Andaman'] = district_id_map['Andaman Islands']\n",
    "district_id_map['Nicobar'] = district_id_map['Nicobar Islands']\n",
    "district_id_map['Dibang Valley'] = district_id_map['Lower Dibang Valley']\n",
    "district_id_map['Dhubri'] = district_id_map['Dhuburi']\n",
    "district_id_map['Golapara'] = district_id_map['Goalpara']\n",
    "district_id_map['Paschim Champaran'] = district_id_map['West Champaran']\n",
    "district_id_map['Rajnandgaon'] = district_id_map['Raj Nandgaon']\n",
    "district_id_map['Dadra & Nagar Haveli'] = district_id_map['Dadra and Nagar Haveli']\n",
    "district_id_map['New Delhi'] = district_id_map['Delhi']\n",
    "district_id_map['Yamunanagar'] = district_id_map['Yamuna Nagar']\n",
    "district_id_map['Lahul & Spiti'] = district_id_map['Lahul and Spiti']\n",
    "district_id_map['Anantanag'] = district_id_map['Anantnag (Kashmir South)']\n",
    "district_id_map['Badgam'] = district_id_map['Bagdam']\n",
    "district_id_map['Baramula'] = district_id_map['Baramula (Kashmir North)']\n",
    "district_id_map['Kupwara'] = district_id_map['Kupwara (Muzaffarabad)']\n",
    "district_id_map['Leh'] = district_id_map['Ladakh (Leh)']\n",
    "district_id_map['Garwah'] = district_id_map['Garhwa']\n",
    "district_id_map['Hazaribagh'] = district_id_map['Hazaribag']\n",
    "district_id_map['Kodarma'] = district_id_map['Koderma']\n",
    "district_id_map['Pakaur'] = district_id_map['Pakur']\n",
    "district_id_map['West Singbhum'] = district_id_map['Singhbhum West']\n",
    "district_id_map['East Singbhum'] = district_id_map['Singhbhum East']\n",
    "district_id_map['Bangalore'] = district_id_map['Bangalore Urban']\n",
    "district_id_map['Chamarajanagar'] = district_id_map['Chamrajnagar']\n",
    "district_id_map['Chikmangalur'] = district_id_map['Chikmagalur']\n",
    "district_id_map['Dakshina Kannada'] = district_id_map['Dakshin Kannad']\n",
    "district_id_map['Uttara Kannada'] = district_id_map['Uttar Kannand']\n",
    "district_id_map['Pathanamthitta'] = district_id_map['Pattanamtitta']\n",
    "district_id_map['Gadchiroli'] = district_id_map['Garhchiroli']\n",
    "district_id_map['Mumbai'] = district_id_map['Greater Bombay']\n",
    "district_id_map['Mumbai (Suburban)'] = district_id_map['Greater Bombay']\n",
    "district_id_map['Imphal East'] = district_id_map['East Imphal']\n",
    "district_id_map['Imphal West'] = district_id_map['West Imphal']\n",
    "district_id_map['Aizwal'] = district_id_map['Aizawl']\n",
    "district_id_map['Anugul'] = district_id_map['Angul']\n",
    "district_id_map['Bargarh'] = district_id_map['Baragarh']\n",
    "district_id_map['Baudh'] = district_id_map['Boudh']\n",
    "district_id_map['Jagatsinghapur'] = district_id_map['Jagatsinghpur']\n",
    "district_id_map['Jajapur'] = district_id_map['Jajpur']\n",
    "district_id_map['Nabarangapur'] = district_id_map['Nabarangpur']\n",
    "district_id_map['Sonapur'] = district_id_map['Sonepur']\n",
    "district_id_map['Pondicherry'] = district_id_map['Puducherry']\n",
    "district_id_map['Nawanshahr'] = district_id_map['Nawan Shehar']\n",
    "district_id_map['East Sikkim'] = district_id_map['East']\n",
    "district_id_map['Sikkim'] = district_id_map['West Sikkim']\n",
    "district_id_map['Imphal East'] = district_id_map['East Imphal']\n",
    "district_id_map['Imphal'] = district_id_map['West Imphal']\n",
    "district_id_map['The Nilgiris'] = district_id_map['Nilgiris']\n",
    "district_id_map['Thoothukkudi'] = district_id_map['Thoothukudi']\n",
    "district_id_map['Tiruchirapalli'] = district_id_map['Tiruchchirappalli']\n",
    "district_id_map['Tirunelveli'] = district_id_map['Tirunelveli Kattabo']\n",
    "district_id_map['Viluppuram'] = district_id_map['Villupuram']\n",
    "district_id_map['Barabanki'] = district_id_map['Bara Banki']\n",
    "district_id_map['Budaun'] = district_id_map['Badaun']\n",
    "district_id_map['Sant Ravidas Nagar'] = district_id_map['Sant Ravi Das Nagar']\n",
    "district_id_map['Shrawasti'] = district_id_map['Shravasti']\n",
    "district_id_map['Dehradun'] = district_id_map['Dehra Dun']\n",
    "district_id_map['Nainital'] = district_id_map['Naini Tal']\n",
    "district_id_map['Rudraprayag'] = district_id_map['Rudra Prayag']\n",
    "district_id_map['Burdwan'] = district_id_map['Barddhaman']\n",
    "district_id_map['Cooch Behar'] = district_id_map['Kochbihar']\n",
    "district_id_map['South Dinajpur'] = district_id_map['Dakshin Dinajpur']\n",
    "district_id_map['Darjeeling'] = district_id_map['Darjiling']\n",
    "district_id_map['Howrah'] = district_id_map['Haora']\n",
    "district_id_map['Hooghly'] = district_id_map['Hugli']\n",
    "district_id_map['Malda'] = district_id_map['Maldah']\n",
    "district_id_map['Midnapore'] = district_id_map['West Midnapore']\n",
    "district_id_map['Purulia'] = district_id_map['Puruliya']\n",
    "district_id_map['Lakshadweep'] = district_id_map['Kavaratti']\n",
    "district_id_map['Goa'] = district_id_map['North Goa']"
   ]
  },
  {
   "cell_type": "code",
   "execution_count": 10,
   "metadata": {},
   "outputs": [
    {
     "data": {
      "text/html": [
       "<div>\n",
       "<style scoped>\n",
       "    .dataframe tbody tr th:only-of-type {\n",
       "        vertical-align: middle;\n",
       "    }\n",
       "\n",
       "    .dataframe tbody tr th {\n",
       "        vertical-align: top;\n",
       "    }\n",
       "\n",
       "    .dataframe thead th {\n",
       "        text-align: right;\n",
       "    }\n",
       "</style>\n",
       "<table border=\"1\" class=\"dataframe\">\n",
       "  <thead>\n",
       "    <tr style=\"text-align: right;\">\n",
       "      <th></th>\n",
       "      <th>State</th>\n",
       "      <th>District</th>\n",
       "      <th>Year</th>\n",
       "      <th>Jan</th>\n",
       "      <th>Feb</th>\n",
       "      <th>Mar</th>\n",
       "      <th>Apr</th>\n",
       "      <th>May</th>\n",
       "      <th>Jun</th>\n",
       "      <th>Jul</th>\n",
       "      <th>Aug</th>\n",
       "      <th>Sep</th>\n",
       "      <th>Oct</th>\n",
       "      <th>Nov</th>\n",
       "      <th>Dec</th>\n",
       "      <th>vlookup</th>\n",
       "      <th>id</th>\n",
       "      <th>ID_2</th>\n",
       "    </tr>\n",
       "  </thead>\n",
       "  <tbody>\n",
       "    <tr>\n",
       "      <th>0</th>\n",
       "      <td>Andaman &amp; Nicobar Islands</td>\n",
       "      <td>Andaman</td>\n",
       "      <td>NaN</td>\n",
       "      <td>NaN</td>\n",
       "      <td>NaN</td>\n",
       "      <td>NaN</td>\n",
       "      <td>NaN</td>\n",
       "      <td>NaN</td>\n",
       "      <td>NaN</td>\n",
       "      <td>NaN</td>\n",
       "      <td>NaN</td>\n",
       "      <td>NaN</td>\n",
       "      <td>NaN</td>\n",
       "      <td>NaN</td>\n",
       "      <td>NaN</td>\n",
       "      <td>Andaman &amp; Nicobar IslandsAndaman</td>\n",
       "      <td>Andaman &amp; Nicobar</td>\n",
       "      <td>1</td>\n",
       "    </tr>\n",
       "    <tr>\n",
       "      <th>1</th>\n",
       "      <td>Andaman &amp; Nicobar Islands</td>\n",
       "      <td>Nicobar</td>\n",
       "      <td>NaN</td>\n",
       "      <td>NaN</td>\n",
       "      <td>NaN</td>\n",
       "      <td>NaN</td>\n",
       "      <td>NaN</td>\n",
       "      <td>NaN</td>\n",
       "      <td>NaN</td>\n",
       "      <td>NaN</td>\n",
       "      <td>NaN</td>\n",
       "      <td>NaN</td>\n",
       "      <td>NaN</td>\n",
       "      <td>NaN</td>\n",
       "      <td>NaN</td>\n",
       "      <td>Andaman &amp; Nicobar IslandsNicobar</td>\n",
       "      <td>Andaman &amp; Nicobar</td>\n",
       "      <td>2</td>\n",
       "    </tr>\n",
       "    <tr>\n",
       "      <th>2</th>\n",
       "      <td>Andhra Pradesh</td>\n",
       "      <td>Adilabad</td>\n",
       "      <td>1901.0</td>\n",
       "      <td>6.725</td>\n",
       "      <td>10.488</td>\n",
       "      <td>23.288</td>\n",
       "      <td>35.560</td>\n",
       "      <td>23.119</td>\n",
       "      <td>115.546</td>\n",
       "      <td>294.119</td>\n",
       "      <td>276.865</td>\n",
       "      <td>181.615</td>\n",
       "      <td>47.310</td>\n",
       "      <td>1.339</td>\n",
       "      <td>0.000</td>\n",
       "      <td>Andhra PradeshAdilabad</td>\n",
       "      <td>Andhra Pradesh</td>\n",
       "      <td>3</td>\n",
       "    </tr>\n",
       "    <tr>\n",
       "      <th>3</th>\n",
       "      <td>Andhra Pradesh</td>\n",
       "      <td>Adilabad</td>\n",
       "      <td>1902.0</td>\n",
       "      <td>0.420</td>\n",
       "      <td>0.000</td>\n",
       "      <td>0.388</td>\n",
       "      <td>6.070</td>\n",
       "      <td>3.331</td>\n",
       "      <td>45.960</td>\n",
       "      <td>233.973</td>\n",
       "      <td>167.971</td>\n",
       "      <td>198.177</td>\n",
       "      <td>26.447</td>\n",
       "      <td>35.083</td>\n",
       "      <td>11.222</td>\n",
       "      <td>Andhra PradeshAdilabad</td>\n",
       "      <td>Andhra Pradesh</td>\n",
       "      <td>3</td>\n",
       "    </tr>\n",
       "    <tr>\n",
       "      <th>4</th>\n",
       "      <td>Andhra Pradesh</td>\n",
       "      <td>Adilabad</td>\n",
       "      <td>1903.0</td>\n",
       "      <td>6.643</td>\n",
       "      <td>1.956</td>\n",
       "      <td>0.173</td>\n",
       "      <td>4.551</td>\n",
       "      <td>33.348</td>\n",
       "      <td>132.078</td>\n",
       "      <td>436.611</td>\n",
       "      <td>334.544</td>\n",
       "      <td>226.037</td>\n",
       "      <td>138.818</td>\n",
       "      <td>14.095</td>\n",
       "      <td>8.823</td>\n",
       "      <td>Andhra PradeshAdilabad</td>\n",
       "      <td>Andhra Pradesh</td>\n",
       "      <td>3</td>\n",
       "    </tr>\n",
       "  </tbody>\n",
       "</table>\n",
       "</div>"
      ],
      "text/plain": [
       "                       State  District    Year    Jan     Feb     Mar     Apr   \n",
       "0  Andaman & Nicobar Islands   Andaman     NaN    NaN     NaN     NaN     NaN  \\\n",
       "1  Andaman & Nicobar Islands   Nicobar     NaN    NaN     NaN     NaN     NaN   \n",
       "2             Andhra Pradesh  Adilabad  1901.0  6.725  10.488  23.288  35.560   \n",
       "3             Andhra Pradesh  Adilabad  1902.0  0.420   0.000   0.388   6.070   \n",
       "4             Andhra Pradesh  Adilabad  1903.0  6.643   1.956   0.173   4.551   \n",
       "\n",
       "      May      Jun      Jul      Aug      Sep      Oct     Nov     Dec   \n",
       "0     NaN      NaN      NaN      NaN      NaN      NaN     NaN     NaN  \\\n",
       "1     NaN      NaN      NaN      NaN      NaN      NaN     NaN     NaN   \n",
       "2  23.119  115.546  294.119  276.865  181.615   47.310   1.339   0.000   \n",
       "3   3.331   45.960  233.973  167.971  198.177   26.447  35.083  11.222   \n",
       "4  33.348  132.078  436.611  334.544  226.037  138.818  14.095   8.823   \n",
       "\n",
       "                            vlookup                 id  ID_2  \n",
       "0  Andaman & Nicobar IslandsAndaman  Andaman & Nicobar     1  \n",
       "1  Andaman & Nicobar IslandsNicobar  Andaman & Nicobar     2  \n",
       "2            Andhra PradeshAdilabad     Andhra Pradesh     3  \n",
       "3            Andhra PradeshAdilabad     Andhra Pradesh     3  \n",
       "4            Andhra PradeshAdilabad     Andhra Pradesh     3  "
      ]
     },
     "execution_count": 10,
     "metadata": {},
     "output_type": "execute_result"
    }
   ],
   "source": [
    "df['ID_2'] = df['District'].apply(lambda x: district_id_map[x])\n",
    "df.head()"
   ]
  },
  {
   "cell_type": "code",
   "execution_count": 11,
   "metadata": {},
   "outputs": [],
   "source": [
    "state_id_map['Andaman and Nicobar'] = state_id_map['Andaman & Nicobar']\n",
    "state_id_map['Dadra and Nagar Haveli'] = state_id_map['Dadra & Nagar Haveli']\n",
    "state_id_map['Daman and Diu'] = state_id_map['Daman & Diu']\n",
    "state_id_map['Jammu and Kashmir'] = state_id_map['Jammu & Kashmir']"
   ]
  },
  {
   "cell_type": "code",
   "execution_count": 12,
   "metadata": {},
   "outputs": [],
   "source": [
    "districts['sid'] = districts['NAME_1'].apply(lambda x: state_id_map[x])"
   ]
  },
  {
   "cell_type": "code",
   "execution_count": 13,
   "metadata": {},
   "outputs": [],
   "source": [
    "def state_map(month, year, state_id):\n",
    "    # choose data for the year and state\n",
    "    df_dynamic = df[df['Year'] == year]\n",
    "    df_dynamic = df_dynamic[df_dynamic['id'] == state_id]\n",
    "    # choose the map for the state\n",
    "    districts_dynamic = districts[districts['sid'] == state_id]\n",
    "    # name  the ID_2 column as id\n",
    "    districts_dynamic = districts_dynamic.rename(columns={'ID_2': 'id'})\n",
    "    # specify this id as featureid key\n",
    "    districts_dynamic['id'] = districts_dynamic['id'].astype(str)\n",
    "    districts_dynamic = districts_dynamic.set_index('id')\n",
    "    districts_dynamic = districts_dynamic.to_json()\n",
    "    districts_dynamic = json.loads(districts_dynamic)\n",
    "    district_fig = px.choropleth(df_dynamic, geojson=districts_dynamic, locations='ID_2', color=month, hover_name='District')\n",
    "    district_fig.update_geos(fitbounds='locations', visible=False)\n",
    "    # make background transparent\n",
    "    district_fig.update_layout(margin={\"r\":0,\"t\":0,\"l\":0,\"b\":0}, paper_bgcolor='rgba(0,0,0,0)', plot_bgcolor='rgba(0,0,0,0)')\n",
    "    # make text white\n",
    "    district_fig.update_layout(font_color='white')\n",
    "    return district_fig"
   ]
  },
  {
   "cell_type": "code",
   "execution_count": 15,
   "metadata": {},
   "outputs": [],
   "source": [
    "# Create the app\n",
    "app = dash.Dash(__name__)"
   ]
  },
  {
   "cell_type": "code",
   "execution_count": 16,
   "metadata": {},
   "outputs": [
    {
     "name": "stdout",
     "output_type": "stream",
     "text": [
      "Dash is running on http://127.0.0.1:8050/\n",
      "\n",
      " * Serving Flask app '__main__'\n",
      " * Debug mode: off\n"
     ]
    },
    {
     "name": "stderr",
     "output_type": "stream",
     "text": [
      "WARNING: This is a development server. Do not use it in a production deployment. Use a production WSGI server instead.\n",
      " * Running on http://127.0.0.1:8050\n",
      "Press CTRL+C to quit\n",
      "127.0.0.1 - - [20/Apr/2023 02:44:29] \"GET / HTTP/1.1\" 200 -\n",
      "127.0.0.1 - - [20/Apr/2023 02:44:30] \"GET /_dash-dependencies HTTP/1.1\" 200 -\n",
      "127.0.0.1 - - [20/Apr/2023 02:44:30] \"GET /_dash-layout HTTP/1.1\" 200 -\n",
      "127.0.0.1 - - [20/Apr/2023 02:44:31] \"GET /_dash-component-suites/dash/dcc/async-slider.js HTTP/1.1\" 304 -\n",
      "127.0.0.1 - - [20/Apr/2023 02:44:31] \"GET /_dash-component-suites/dash/dcc/async-dropdown.js HTTP/1.1\" 304 -\n",
      "127.0.0.1 - - [20/Apr/2023 02:44:31] \"GET /_dash-component-suites/dash/dcc/async-graph.js HTTP/1.1\" 304 -\n",
      "127.0.0.1 - - [20/Apr/2023 02:44:31] \"GET /_dash-component-suites/dash/dcc/async-plotlyjs.js HTTP/1.1\" 304 -\n",
      "127.0.0.1 - - [20/Apr/2023 02:44:31] \"POST /_dash-update-component HTTP/1.1\" 200 -\n",
      "127.0.0.1 - - [20/Apr/2023 02:44:31] \"POST /_dash-update-component HTTP/1.1\" 200 -\n"
     ]
    },
    {
     "name": "stdout",
     "output_type": "stream",
     "text": [
      "Jan 2002 Uttar Pradesh\n"
     ]
    },
    {
     "name": "stderr",
     "output_type": "stream",
     "text": [
      "127.0.0.1 - - [20/Apr/2023 02:44:39] \"POST /_dash-update-component HTTP/1.1\" 200 -\n"
     ]
    },
    {
     "name": "stdout",
     "output_type": "stream",
     "text": [
      "Jan 2002 Bihar\n"
     ]
    },
    {
     "name": "stderr",
     "output_type": "stream",
     "text": [
      "127.0.0.1 - - [20/Apr/2023 02:44:42] \"POST /_dash-update-component HTTP/1.1\" 200 -\n",
      "127.0.0.1 - - [20/Apr/2023 02:44:45] \"POST /_dash-update-component HTTP/1.1\" 200 -\n"
     ]
    },
    {
     "name": "stdout",
     "output_type": "stream",
     "text": [
      "Jan 2002 Jammu & Kashmir\n",
      "Jan 2002 Andhra Pradesh\n"
     ]
    },
    {
     "name": "stderr",
     "output_type": "stream",
     "text": [
      "127.0.0.1 - - [20/Apr/2023 02:44:59] \"POST /_dash-update-component HTTP/1.1\" 200 -\n"
     ]
    },
    {
     "name": "stdout",
     "output_type": "stream",
     "text": [
      "Jan 2002 Bihar\n"
     ]
    },
    {
     "name": "stderr",
     "output_type": "stream",
     "text": [
      "127.0.0.1 - - [20/Apr/2023 02:45:06] \"POST /_dash-update-component HTTP/1.1\" 200 -\n"
     ]
    },
    {
     "name": "stdout",
     "output_type": "stream",
     "text": [
      "Jan 2002 Madhya Pradesh\n"
     ]
    },
    {
     "name": "stderr",
     "output_type": "stream",
     "text": [
      "127.0.0.1 - - [20/Apr/2023 02:45:10] \"POST /_dash-update-component HTTP/1.1\" 200 -\n"
     ]
    },
    {
     "name": "stdout",
     "output_type": "stream",
     "text": [
      "Jan 2002 Rajasthan\n"
     ]
    },
    {
     "name": "stderr",
     "output_type": "stream",
     "text": [
      "127.0.0.1 - - [20/Apr/2023 02:45:12] \"POST /_dash-update-component HTTP/1.1\" 200 -\n"
     ]
    },
    {
     "name": "stdout",
     "output_type": "stream",
     "text": [
      "Jan 2002 Uttarakhand\n"
     ]
    },
    {
     "name": "stderr",
     "output_type": "stream",
     "text": [
      "127.0.0.1 - - [20/Apr/2023 02:45:13] \"POST /_dash-update-component HTTP/1.1\" 200 -\n"
     ]
    }
   ],
   "source": [
    "# Create the layout\n",
    "app.layout = html.Div([\n",
    "    html.H1('India District Level Data'),\n",
    "    html.H2('Hover over the map to see the rainfall'),\n",
    "    html.H3('Choose year'),\n",
    "    dcc.Slider(\n",
    "        id='year',\n",
    "        min=df['Year'].min(),\n",
    "        max=df['Year'].max(),\n",
    "        value=df['Year'].max(),\n",
    "        # make this slider smaoother and place it in the center\n",
    "        marks={str(year): str(year) for year in df['Year'].unique()},\n",
    "        step=None, included=False, updatemode='drag',\n",
    "        tooltip={'always_visible': True, 'placement': 'bottom'},\n",
    "    ),\n",
    "    html.H3('Choose month'),\n",
    "    dcc.Dropdown(\n",
    "        id='month',\n",
    "        options=[ {'label': i, 'value': i} for i in df.columns[3:15] ],\n",
    "        value='Jan'\n",
    "        # make this dropdown smaller and place it in the center\n",
    "        , style={'width': '40%', 'margin': 'auto'}\n",
    "    ),\n",
    "    html.Div([\n",
    "    html.H3('India Map'),\n",
    "    html.H4('Click on the state to see the district map'),\n",
    "    dcc.Graph(id='india_map', figure=plot_rainfall('Jan', 2002)),\n",
    "    html.H3('State Map'),\n",
    "    dcc.Graph(id='district_map', figure=state_map('Jan', 2002, 'Bihar'))\n",
    "    ], \n",
    "    # display the india map and state map side by side\n",
    "    style={'columnCount': 2})\n",
    "], style={'textAlign': 'center', 'backgroundColor':'#000000', 'color':'#ffffff'})\n",
    "\n",
    "# Create the callback\n",
    "@app.callback(\n",
    "    Output('district_map', 'figure'),\n",
    "    [Input('month', 'value'), Input('year', 'value'), Input('india_map', 'clickData')]\n",
    ")\n",
    "def update_map(month, year, state_id):\n",
    "    if state_id is None:\n",
    "        state_id = 10\n",
    "    else:\n",
    "        state_id = state_id['points'][0]['location']\n",
    "        print(month, year, state_id)\n",
    "    return state_map(month, year, state_id)\n",
    "\n",
    "# callback for the india map\n",
    "@app.callback(\n",
    "    Output('india_map', 'figure'),\n",
    "    [Input('month', 'value'), Input('year', 'value')]\n",
    ")\n",
    "def update_map(month, year):\n",
    "    return plot_rainfall(month, year)\n",
    "\n",
    "# Run the app\n",
    "if __name__ == '__main__':\n",
    "    app.run_server()"
   ]
  }
 ],
 "metadata": {
  "kernelspec": {
   "display_name": "Python 3",
   "language": "python",
   "name": "python3"
  },
  "language_info": {
   "codemirror_mode": {
    "name": "ipython",
    "version": 3
   },
   "file_extension": ".py",
   "mimetype": "text/x-python",
   "name": "python",
   "nbconvert_exporter": "python",
   "pygments_lexer": "ipython3",
   "version": "3.10.9"
  },
  "orig_nbformat": 4
 },
 "nbformat": 4,
 "nbformat_minor": 2
}
