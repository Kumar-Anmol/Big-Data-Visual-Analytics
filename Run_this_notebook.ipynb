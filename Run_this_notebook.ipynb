{
 "cells": [
  {
   "cell_type": "code",
   "execution_count": 1,
   "metadata": {},
   "outputs": [],
   "source": [
    "import pandas as pd\n",
    "import numpy as np\n",
    "import json\n",
    "import geopandas as gpd\n",
    "import plotly.express as px\n",
    "import dash\n",
    "from dash import dcc\n",
    "from dash import html\n",
    "from dash.dependencies import Input, Output"
   ]
  },
  {
   "cell_type": "code",
   "execution_count": 2,
   "metadata": {},
   "outputs": [
    {
     "data": {
      "application/vnd.plotly.v1+json": {
       "config": {
        "plotlyServerURL": "https://plot.ly"
       },
       "data": [
        {
         "hovertemplate": "x=%{x}<br>y=%{y}<extra></extra>",
         "legendgroup": "",
         "line": {
          "color": "#636efa",
          "dash": "solid"
         },
         "marker": {
          "symbol": "circle"
         },
         "mode": "lines",
         "name": "",
         "orientation": "v",
         "showlegend": false,
         "type": "scatter",
         "x": [
          1901,
          1902,
          1903,
          1904,
          1905,
          1906,
          1907,
          1908,
          1909,
          1910,
          1911,
          1912,
          1913,
          1914,
          1915,
          1916,
          1917,
          1918,
          1919,
          1920,
          1921,
          1922,
          1923,
          1924,
          1925,
          1926,
          1927,
          1928,
          1929,
          1930,
          1931,
          1932,
          1933,
          1934,
          1935,
          1936,
          1937,
          1938,
          1939,
          1940,
          1941,
          1942,
          1943,
          1944,
          1945,
          1946,
          1947,
          1948,
          1949,
          1950,
          1951,
          1952,
          1953,
          1954,
          1955,
          1956,
          1957,
          1958,
          1959,
          1960,
          1961,
          1962,
          1963,
          1964,
          1965,
          1966,
          1967,
          1968,
          1969,
          1970,
          1971,
          1972,
          1973,
          1974,
          1975,
          1976,
          1977,
          1978,
          1979,
          1980,
          1981,
          1982,
          1983,
          1984,
          1985,
          1986,
          1987,
          1988,
          1989,
          1990,
          1991,
          1992,
          1993,
          1994,
          1995,
          1996,
          1997,
          1998,
          1999,
          2000,
          2001,
          2002
         ],
         "xaxis": "x",
         "y": [
          585697.4680000001,
          623705.916,
          649669.248,
          609565.3159999999,
          609645.86,
          659550.879,
          581440.203,
          634394.147,
          665854.6619999999,
          692049.9729999999,
          647519.4650000001,
          617165.191,
          631335.842,
          661274.371,
          681460.807,
          746661.8439999999,
          769760.4870000001,
          545847.6760000001,
          681766.846,
          564743.7989999999,
          660121.27,
          681963.4199999999,
          614419.0650000001,
          671184.462,
          671858.862,
          646001.939,
          667052.464,
          640425.7,
          650793.914,
          634738.2209999999,
          714026.259,
          650191.5759999999,
          725672.116,
          696314.428,
          620040.673,
          747262.3820000001,
          623183.569,
          685297.7429999999,
          620348.232,
          640160.604,
          594249.5,
          704577.1410000001,
          672388.015,
          692926.5819999999,
          660662.936,
          700531.116,
          717649.151,
          718823.457,
          734317.491,
          638180.1760000001,
          664929.2870000001,
          642352.949,
          680786.266,
          691621.3770000001,
          717472.8559999999,
          789583.525,
          620263.7150000001,
          702620.681,
          742764.5980000001,
          616280.6980000001,
          719029.4700000002,
          632501.9380000001,
          655259.0620000002,
          721932.926,
          560254.976,
          601735.459,
          635774.0249999999,
          592817.392,
          655938.8699999999,
          701094.2749999999,
          692390.3759999999,
          552014.781,
          705908.8200000001,
          626331.7130000001,
          707414.2839999999,
          654045.6699999999,
          725035.635,
          699271.3429999999,
          569383.2349999999,
          665819.9059999998,
          659933.7349999999,
          608741.429,
          702544.418,
          672505.4839999999,
          638030.441,
          611624.979,
          566972.167,
          713131.765,
          600685.251,
          741101.822,
          608508.0000000001,
          574437.061,
          644639.852,
          678341.9089999999,
          635932.4419999999,
          678650.696,
          622854.7530000001,
          670096.406,
          591220.346,
          564860.473,
          576362.1919999999,
          556561.132
         ],
         "yaxis": "y"
        }
       ],
       "layout": {
        "height": 400,
        "legend": {
         "tracegroupgap": 0
        },
        "margin": {
         "t": 60
        },
        "showlegend": false,
        "template": {
         "data": {
          "bar": [
           {
            "error_x": {
             "color": "#2a3f5f"
            },
            "error_y": {
             "color": "#2a3f5f"
            },
            "marker": {
             "line": {
              "color": "#E5ECF6",
              "width": 0.5
             },
             "pattern": {
              "fillmode": "overlay",
              "size": 10,
              "solidity": 0.2
             }
            },
            "type": "bar"
           }
          ],
          "barpolar": [
           {
            "marker": {
             "line": {
              "color": "#E5ECF6",
              "width": 0.5
             },
             "pattern": {
              "fillmode": "overlay",
              "size": 10,
              "solidity": 0.2
             }
            },
            "type": "barpolar"
           }
          ],
          "carpet": [
           {
            "aaxis": {
             "endlinecolor": "#2a3f5f",
             "gridcolor": "white",
             "linecolor": "white",
             "minorgridcolor": "white",
             "startlinecolor": "#2a3f5f"
            },
            "baxis": {
             "endlinecolor": "#2a3f5f",
             "gridcolor": "white",
             "linecolor": "white",
             "minorgridcolor": "white",
             "startlinecolor": "#2a3f5f"
            },
            "type": "carpet"
           }
          ],
          "choropleth": [
           {
            "colorbar": {
             "outlinewidth": 0,
             "ticks": ""
            },
            "type": "choropleth"
           }
          ],
          "contour": [
           {
            "colorbar": {
             "outlinewidth": 0,
             "ticks": ""
            },
            "colorscale": [
             [
              0,
              "#0d0887"
             ],
             [
              0.1111111111111111,
              "#46039f"
             ],
             [
              0.2222222222222222,
              "#7201a8"
             ],
             [
              0.3333333333333333,
              "#9c179e"
             ],
             [
              0.4444444444444444,
              "#bd3786"
             ],
             [
              0.5555555555555556,
              "#d8576b"
             ],
             [
              0.6666666666666666,
              "#ed7953"
             ],
             [
              0.7777777777777778,
              "#fb9f3a"
             ],
             [
              0.8888888888888888,
              "#fdca26"
             ],
             [
              1,
              "#f0f921"
             ]
            ],
            "type": "contour"
           }
          ],
          "contourcarpet": [
           {
            "colorbar": {
             "outlinewidth": 0,
             "ticks": ""
            },
            "type": "contourcarpet"
           }
          ],
          "heatmap": [
           {
            "colorbar": {
             "outlinewidth": 0,
             "ticks": ""
            },
            "colorscale": [
             [
              0,
              "#0d0887"
             ],
             [
              0.1111111111111111,
              "#46039f"
             ],
             [
              0.2222222222222222,
              "#7201a8"
             ],
             [
              0.3333333333333333,
              "#9c179e"
             ],
             [
              0.4444444444444444,
              "#bd3786"
             ],
             [
              0.5555555555555556,
              "#d8576b"
             ],
             [
              0.6666666666666666,
              "#ed7953"
             ],
             [
              0.7777777777777778,
              "#fb9f3a"
             ],
             [
              0.8888888888888888,
              "#fdca26"
             ],
             [
              1,
              "#f0f921"
             ]
            ],
            "type": "heatmap"
           }
          ],
          "heatmapgl": [
           {
            "colorbar": {
             "outlinewidth": 0,
             "ticks": ""
            },
            "colorscale": [
             [
              0,
              "#0d0887"
             ],
             [
              0.1111111111111111,
              "#46039f"
             ],
             [
              0.2222222222222222,
              "#7201a8"
             ],
             [
              0.3333333333333333,
              "#9c179e"
             ],
             [
              0.4444444444444444,
              "#bd3786"
             ],
             [
              0.5555555555555556,
              "#d8576b"
             ],
             [
              0.6666666666666666,
              "#ed7953"
             ],
             [
              0.7777777777777778,
              "#fb9f3a"
             ],
             [
              0.8888888888888888,
              "#fdca26"
             ],
             [
              1,
              "#f0f921"
             ]
            ],
            "type": "heatmapgl"
           }
          ],
          "histogram": [
           {
            "marker": {
             "pattern": {
              "fillmode": "overlay",
              "size": 10,
              "solidity": 0.2
             }
            },
            "type": "histogram"
           }
          ],
          "histogram2d": [
           {
            "colorbar": {
             "outlinewidth": 0,
             "ticks": ""
            },
            "colorscale": [
             [
              0,
              "#0d0887"
             ],
             [
              0.1111111111111111,
              "#46039f"
             ],
             [
              0.2222222222222222,
              "#7201a8"
             ],
             [
              0.3333333333333333,
              "#9c179e"
             ],
             [
              0.4444444444444444,
              "#bd3786"
             ],
             [
              0.5555555555555556,
              "#d8576b"
             ],
             [
              0.6666666666666666,
              "#ed7953"
             ],
             [
              0.7777777777777778,
              "#fb9f3a"
             ],
             [
              0.8888888888888888,
              "#fdca26"
             ],
             [
              1,
              "#f0f921"
             ]
            ],
            "type": "histogram2d"
           }
          ],
          "histogram2dcontour": [
           {
            "colorbar": {
             "outlinewidth": 0,
             "ticks": ""
            },
            "colorscale": [
             [
              0,
              "#0d0887"
             ],
             [
              0.1111111111111111,
              "#46039f"
             ],
             [
              0.2222222222222222,
              "#7201a8"
             ],
             [
              0.3333333333333333,
              "#9c179e"
             ],
             [
              0.4444444444444444,
              "#bd3786"
             ],
             [
              0.5555555555555556,
              "#d8576b"
             ],
             [
              0.6666666666666666,
              "#ed7953"
             ],
             [
              0.7777777777777778,
              "#fb9f3a"
             ],
             [
              0.8888888888888888,
              "#fdca26"
             ],
             [
              1,
              "#f0f921"
             ]
            ],
            "type": "histogram2dcontour"
           }
          ],
          "mesh3d": [
           {
            "colorbar": {
             "outlinewidth": 0,
             "ticks": ""
            },
            "type": "mesh3d"
           }
          ],
          "parcoords": [
           {
            "line": {
             "colorbar": {
              "outlinewidth": 0,
              "ticks": ""
             }
            },
            "type": "parcoords"
           }
          ],
          "pie": [
           {
            "automargin": true,
            "type": "pie"
           }
          ],
          "scatter": [
           {
            "fillpattern": {
             "fillmode": "overlay",
             "size": 10,
             "solidity": 0.2
            },
            "type": "scatter"
           }
          ],
          "scatter3d": [
           {
            "line": {
             "colorbar": {
              "outlinewidth": 0,
              "ticks": ""
             }
            },
            "marker": {
             "colorbar": {
              "outlinewidth": 0,
              "ticks": ""
             }
            },
            "type": "scatter3d"
           }
          ],
          "scattercarpet": [
           {
            "marker": {
             "colorbar": {
              "outlinewidth": 0,
              "ticks": ""
             }
            },
            "type": "scattercarpet"
           }
          ],
          "scattergeo": [
           {
            "marker": {
             "colorbar": {
              "outlinewidth": 0,
              "ticks": ""
             }
            },
            "type": "scattergeo"
           }
          ],
          "scattergl": [
           {
            "marker": {
             "colorbar": {
              "outlinewidth": 0,
              "ticks": ""
             }
            },
            "type": "scattergl"
           }
          ],
          "scattermapbox": [
           {
            "marker": {
             "colorbar": {
              "outlinewidth": 0,
              "ticks": ""
             }
            },
            "type": "scattermapbox"
           }
          ],
          "scatterpolar": [
           {
            "marker": {
             "colorbar": {
              "outlinewidth": 0,
              "ticks": ""
             }
            },
            "type": "scatterpolar"
           }
          ],
          "scatterpolargl": [
           {
            "marker": {
             "colorbar": {
              "outlinewidth": 0,
              "ticks": ""
             }
            },
            "type": "scatterpolargl"
           }
          ],
          "scatterternary": [
           {
            "marker": {
             "colorbar": {
              "outlinewidth": 0,
              "ticks": ""
             }
            },
            "type": "scatterternary"
           }
          ],
          "surface": [
           {
            "colorbar": {
             "outlinewidth": 0,
             "ticks": ""
            },
            "colorscale": [
             [
              0,
              "#0d0887"
             ],
             [
              0.1111111111111111,
              "#46039f"
             ],
             [
              0.2222222222222222,
              "#7201a8"
             ],
             [
              0.3333333333333333,
              "#9c179e"
             ],
             [
              0.4444444444444444,
              "#bd3786"
             ],
             [
              0.5555555555555556,
              "#d8576b"
             ],
             [
              0.6666666666666666,
              "#ed7953"
             ],
             [
              0.7777777777777778,
              "#fb9f3a"
             ],
             [
              0.8888888888888888,
              "#fdca26"
             ],
             [
              1,
              "#f0f921"
             ]
            ],
            "type": "surface"
           }
          ],
          "table": [
           {
            "cells": {
             "fill": {
              "color": "#EBF0F8"
             },
             "line": {
              "color": "white"
             }
            },
            "header": {
             "fill": {
              "color": "#C8D4E3"
             },
             "line": {
              "color": "white"
             }
            },
            "type": "table"
           }
          ]
         },
         "layout": {
          "annotationdefaults": {
           "arrowcolor": "#2a3f5f",
           "arrowhead": 0,
           "arrowwidth": 1
          },
          "autotypenumbers": "strict",
          "coloraxis": {
           "colorbar": {
            "outlinewidth": 0,
            "ticks": ""
           }
          },
          "colorscale": {
           "diverging": [
            [
             0,
             "#8e0152"
            ],
            [
             0.1,
             "#c51b7d"
            ],
            [
             0.2,
             "#de77ae"
            ],
            [
             0.3,
             "#f1b6da"
            ],
            [
             0.4,
             "#fde0ef"
            ],
            [
             0.5,
             "#f7f7f7"
            ],
            [
             0.6,
             "#e6f5d0"
            ],
            [
             0.7,
             "#b8e186"
            ],
            [
             0.8,
             "#7fbc41"
            ],
            [
             0.9,
             "#4d9221"
            ],
            [
             1,
             "#276419"
            ]
           ],
           "sequential": [
            [
             0,
             "#0d0887"
            ],
            [
             0.1111111111111111,
             "#46039f"
            ],
            [
             0.2222222222222222,
             "#7201a8"
            ],
            [
             0.3333333333333333,
             "#9c179e"
            ],
            [
             0.4444444444444444,
             "#bd3786"
            ],
            [
             0.5555555555555556,
             "#d8576b"
            ],
            [
             0.6666666666666666,
             "#ed7953"
            ],
            [
             0.7777777777777778,
             "#fb9f3a"
            ],
            [
             0.8888888888888888,
             "#fdca26"
            ],
            [
             1,
             "#f0f921"
            ]
           ],
           "sequentialminus": [
            [
             0,
             "#0d0887"
            ],
            [
             0.1111111111111111,
             "#46039f"
            ],
            [
             0.2222222222222222,
             "#7201a8"
            ],
            [
             0.3333333333333333,
             "#9c179e"
            ],
            [
             0.4444444444444444,
             "#bd3786"
            ],
            [
             0.5555555555555556,
             "#d8576b"
            ],
            [
             0.6666666666666666,
             "#ed7953"
            ],
            [
             0.7777777777777778,
             "#fb9f3a"
            ],
            [
             0.8888888888888888,
             "#fdca26"
            ],
            [
             1,
             "#f0f921"
            ]
           ]
          },
          "colorway": [
           "#636efa",
           "#EF553B",
           "#00cc96",
           "#ab63fa",
           "#FFA15A",
           "#19d3f3",
           "#FF6692",
           "#B6E880",
           "#FF97FF",
           "#FECB52"
          ],
          "font": {
           "color": "#2a3f5f"
          },
          "geo": {
           "bgcolor": "white",
           "lakecolor": "white",
           "landcolor": "#E5ECF6",
           "showlakes": true,
           "showland": true,
           "subunitcolor": "white"
          },
          "hoverlabel": {
           "align": "left"
          },
          "hovermode": "closest",
          "mapbox": {
           "style": "light"
          },
          "paper_bgcolor": "white",
          "plot_bgcolor": "#E5ECF6",
          "polar": {
           "angularaxis": {
            "gridcolor": "white",
            "linecolor": "white",
            "ticks": ""
           },
           "bgcolor": "#E5ECF6",
           "radialaxis": {
            "gridcolor": "white",
            "linecolor": "white",
            "ticks": ""
           }
          },
          "scene": {
           "xaxis": {
            "backgroundcolor": "#E5ECF6",
            "gridcolor": "white",
            "gridwidth": 2,
            "linecolor": "white",
            "showbackground": true,
            "ticks": "",
            "zerolinecolor": "white"
           },
           "yaxis": {
            "backgroundcolor": "#E5ECF6",
            "gridcolor": "white",
            "gridwidth": 2,
            "linecolor": "white",
            "showbackground": true,
            "ticks": "",
            "zerolinecolor": "white"
           },
           "zaxis": {
            "backgroundcolor": "#E5ECF6",
            "gridcolor": "white",
            "gridwidth": 2,
            "linecolor": "white",
            "showbackground": true,
            "ticks": "",
            "zerolinecolor": "white"
           }
          },
          "shapedefaults": {
           "line": {
            "color": "#2a3f5f"
           }
          },
          "ternary": {
           "aaxis": {
            "gridcolor": "white",
            "linecolor": "white",
            "ticks": ""
           },
           "baxis": {
            "gridcolor": "white",
            "linecolor": "white",
            "ticks": ""
           },
           "bgcolor": "#E5ECF6",
           "caxis": {
            "gridcolor": "white",
            "linecolor": "white",
            "ticks": ""
           }
          },
          "title": {
           "x": 0.05
          },
          "xaxis": {
           "automargin": true,
           "gridcolor": "white",
           "linecolor": "white",
           "ticks": "",
           "title": {
            "standoff": 15
           },
           "zerolinecolor": "white",
           "zerolinewidth": 2
          },
          "yaxis": {
           "automargin": true,
           "gridcolor": "white",
           "linecolor": "white",
           "ticks": "",
           "title": {
            "standoff": 15
           },
           "zerolinecolor": "white",
           "zerolinewidth": 2
          }
         }
        },
        "title": {
         "text": "Yearwise rainfall of India"
        },
        "xaxis": {
         "anchor": "y",
         "domain": [
          0,
          1
         ],
         "title": {
          "text": "Year"
         }
        },
        "yaxis": {
         "anchor": "x",
         "domain": [
          0,
          1
         ],
         "title": {
          "text": "Rainfall"
         }
        }
       }
      }
     },
     "metadata": {},
     "output_type": "display_data"
    }
   ],
   "source": [
    "import pandas as pd\n",
    "import numpy as np\n",
    "import matplotlib.pyplot as plt\n",
    "\n",
    "import plotly.express as px\n",
    "import ipywidgets as widgets\n",
    "import plotly\n",
    "import plotly.graph_objects as go\n",
    "\n",
    "data = pd.read_excel('india_-_monthly_rainfall_data_-_1901_to_2002.xlsx')\n",
    "# drop row which has NA\n",
    "data = data.dropna()\n",
    "row_to_sum = data.iloc[:, 3:15]\n",
    "sum_of_row = row_to_sum.sum(axis=1)\n",
    "data.insert(15, \"Sum\", sum_of_row, True)\n",
    "ll=data['State'].unique().tolist()\n",
    "\n",
    "data1 = data.groupby('State')\n",
    "state_name = 'Andhra Pradesh'\n",
    "data_sum = data1.get_group(state_name).groupby('Year').sum()['Sum']/data.groupby(\n",
    "    'State').get_group(state_name).groupby('District').nunique().count()[0]  # .iloc[:,-1]/102\n",
    "\n",
    "max_index = data_sum.idxmax()\n",
    "min_index = data_sum.idxmin()\n",
    "fig = px.line(data, x=data_sum.index, y=data_sum)\n",
    "# fig.add_annotation(x=max_index, y=data_sum[max_index],\n",
    "#                    text=\"Max: {:.2f}\".format(data_sum[max_index]),\n",
    "#                    showarrow=True, arrowhead=1)\n",
    "# fig.add_annotation(x=min_index, y=data_sum[min_index],\n",
    "#                    text=\"Min: {:.2f}\".format(data_sum[min_index]),\n",
    "#                    showarrow=True, arrowhead=1)\n",
    "fig.update_layout(height=400, showlegend=False)\n",
    "fig.update_xaxes(title_text='Year')\n",
    "fig.update_yaxes(title_text='Rainfall')\n",
    "# update the title\n",
    "fig.update_layout(title_text='Yearwise rainfall of '+state_name)\n",
    "\n",
    "\n",
    "# state_name='Andhra Pradesh'\n",
    "state_name1='Bihar'\n",
    "data1=data.groupby('State')\n",
    "\n",
    "data_sum=data1.get_group(state_name).groupby('Year').sum()['Sum']/data.groupby('State').get_group(state_name).groupby('District').nunique().count()[0]\n",
    "data_sum1=data1.get_group(state_name1).groupby('Year').sum()['Sum']/data.groupby('State').get_group(state_name1).groupby('District').nunique().count()[0]\n",
    "\n",
    "max_index = data_sum.idxmax()\n",
    "min_index = data_sum.idxmin()\n",
    "\n",
    "fig1 = px.line(data, x=data_sum.index, y=data_sum)\n",
    "fig1.add_scatter(x=data_sum1.index, y=data_sum1)  #, mode='lines', name=state_name1)\n",
    "# fig = px.line(data.groupby('State').get_group('Andhra Pradesh').groupby('Year').sum()['Sum']/102,x=data.groupby('State').get_group(state_name).groupby('Year').sum()['Sum']/102.index, y=data.groupby('State').get_group(state_name).groupby('Year').sum()['Sum']/102, title='Life expectancy in Canada')\n",
    "# fig.add_annotation(x=max_index, y=data_sum[max_index],\n",
    "#                    text=\"Max: {:.2f}\".format(data_sum[max_index]),\n",
    "#                    showarrow=True, arrowhead=1)\n",
    "# fig.add_annotation(x=min_index, y=data_sum[min_index],\n",
    "#                    text=\"Min: {:.2f}\".format(data_sum[min_index]),\n",
    "#                    showarrow=True, arrowhead=1)\n",
    "fig1.update_layout(height=400, showlegend=False)\n",
    "fig1.update_xaxes(title_text='Year')\n",
    "fig1.update_yaxes(title_text='Rainfall')\n",
    "## set label for different state\n",
    "fig.update_traces(marker_color='red', selector=dict(name=state_name))\n",
    "## update the title\n",
    "fig1.update_layout(title_text='Yearwise rainfall of '+state_name+' and '+state_name1)\n",
    "\n",
    "\n",
    "data_temp=data1.get_group(state_name).sum()\n",
    "np_arr = np.random.randn(13, 31)\n",
    "df_arr = pd.DataFrame(np_arr)\n",
    "\n",
    "## print unique month in Months column\n",
    "month_list=['January','February','March','April','May','June','July','August','September','October','November','December']\n",
    "cc=0\n",
    "for i in ll:\n",
    "    data_temp=data1.get_group(i).sum()\n",
    "    df_arr.iloc[0,cc]=i\n",
    "    df_arr.iloc[1:,cc]=data_temp.iloc[3:15]/(data.groupby('State').get_group(i).groupby('District').nunique().count()[0])\n",
    "    cc=cc+1\n",
    "\n",
    "fig2=go.Figure(data=[go.Pie(labels=df_arr.iloc[0], values=df_arr.iloc[10],title='Rainfall in India')])\n",
    "# fig.update_layout(height=400, showlegend=False)\n",
    "# fig2.show()\n",
    "\n",
    "\n",
    "\n",
    "year_list = data['Year'].unique().tolist()\n",
    "data11=data.groupby('Year')\n",
    "total_rain=np.zeros(102)\n",
    "for i in range(1901,2003):\n",
    "    total_rain[i-1901]=data11.get_group(i).sum()[3:15].sum()\n",
    "\n",
    "max_index = total_rain.argmax()\n",
    "min_index = total_rain.argmin()\n",
    "fig3 = px.line(data, x=data11.sum().index, y=total_rain)\n",
    "fig3.update_layout(height=400, showlegend=False)\n",
    "fig3.update_xaxes(title_text='Year')\n",
    "fig3.update_yaxes(title_text='Rainfall')\n",
    "# update the title\n",
    "fig3.update_layout(title_text='Yearwise rainfall of India')\n",
    "# fig3.update_annotations(dict(xref=\"paper\", yref=\"paper\",\n",
    "#                                 x=0.0, y=1.05,\n",
    "#                                 xanchor=\"left\", yanchor=\"bottom\",\n",
    "#                                 font_size=14,\n",
    "#                                 showarrow=False))\n",
    "# fig3.add_annotation(x=max_index, y=total_rain[max_index],\n",
    "#                    text=\"Max: {:.2f}\".format(total_rain[max_index]),\n",
    "#                    showarrow=True, arrowhead=1)\n",
    "# fig3.add_annotation(x=min_index, y=total_rain[min_index],\n",
    "#                    text=\"Max: {:.2f}\".format(total_rain[min_index]),\n",
    "#                    showarrow=True, arrowhead=1)\n",
    "\n",
    "# fig3.show()\n",
    "\n",
    "\n",
    "\n",
    "\n"
   ]
  },
  {
   "cell_type": "code",
   "execution_count": 3,
   "metadata": {},
   "outputs": [],
   "source": [
    "# Read \n",
    "india = json.load(open('state/india_states.geojson'))\n",
    "\n",
    "#  Read in the district-level data\n",
    "districts = gpd.read_file('district/india_district.geojson')\n",
    "\n",
    "# # Read in the rainfall data\n",
    "df = pd.read_excel('india_-_monthly_rainfall_data_-_1901_to_2002.xlsx')"
   ]
  },
  {
   "cell_type": "code",
   "execution_count": 4,
   "metadata": {},
   "outputs": [
    {
     "name": "stderr",
     "output_type": "stream",
     "text": [
      "C:\\Users\\mrbha\\AppData\\Local\\Temp\\ipykernel_21148\\2343628423.py:12: ShapelyDeprecationWarning:\n",
      "\n",
      "The 'cascaded_union()' function is deprecated. Use 'unary_union()' instead.\n",
      "\n",
      "C:\\Users\\mrbha\\AppData\\Local\\Temp\\ipykernel_21148\\2343628423.py:27: ShapelyDeprecationWarning:\n",
      "\n",
      "The 'cascaded_union()' function is deprecated. Use 'unary_union()' instead.\n",
      "\n"
     ]
    }
   ],
   "source": [
    "# combine ladakh and jammu and kashmir area into one in the geojson file\n",
    "from shapely.geometry import shape, mapping\n",
    "from shapely.ops import cascaded_union\n",
    "for i in range(len(india['features'])):\n",
    "    if india['features'][i]['properties']['ST_NM'] == 'Jammu & Kashmir':\n",
    "        india['features'][i]['properties']['ST_NM'] = 'Jammu and Kashmir and Ladakh'\n",
    "        jk = shape(india['features'][i]['geometry'])\n",
    "    if india['features'][i]['properties']['ST_NM'] == 'Ladakh':\n",
    "        india['features'][i]['properties']['ST_NM'] = 'Jammu and Kashmir and Ladakh'\n",
    "        ld = shape(india['features'][i]['geometry'])\n",
    "\n",
    "jkld = cascaded_union([jk, ld])\n",
    "# remove ladakh and jammu and kashmir area from the geojson file\n",
    "india['features'] = [i for i in india['features'] if i['properties']['ST_NM'] != 'Jammu and Kashmir and Ladakh']\n",
    "# add the combined ladakh and jammu and kashmir area to the geojson file\n",
    "india['features'].append({'type': 'Feature', 'properties': {'ST_NM': 'Jammu & Kashmir'}, 'geometry': mapping(jkld)})\n",
    "\n",
    "# do same for Andhra Pradesh and Telangana\n",
    "for i in range(len(india['features'])):\n",
    "    if india['features'][i]['properties']['ST_NM'] == 'Andhra Pradesh':\n",
    "        india['features'][i]['properties']['ST_NM'] = 'Andhra Pradesh and Telangana'\n",
    "        ap = shape(india['features'][i]['geometry'])\n",
    "    if india['features'][i]['properties']['ST_NM'] == 'Telangana':\n",
    "        india['features'][i]['properties']['ST_NM'] = 'Andhra Pradesh and Telangana'\n",
    "        ts = shape(india['features'][i]['geometry'])\n",
    "    \n",
    "apts = cascaded_union([ap, ts])\n",
    "india['features'] = [i for i in india['features'] if i['properties']['ST_NM'] != 'Andhra Pradesh and Telangana']\n",
    "india['features'].append({'type': 'Feature', 'properties': {'ST_NM': 'Andhra Pradesh'}, 'geometry': mapping(apts)})"
   ]
  },
  {
   "cell_type": "code",
   "execution_count": 5,
   "metadata": {},
   "outputs": [],
   "source": [
    "# create a dictionary to map the state name to a number\n",
    "state_id_map = {}\n",
    "for feature in india['features']:\n",
    "    feature['id'] = feature['properties']['ST_NM']\n",
    "    state_id_map[feature['properties']['ST_NM']] = feature['id']"
   ]
  },
  {
   "cell_type": "code",
   "execution_count": 6,
   "metadata": {},
   "outputs": [],
   "source": [
    "state_id_map['Andaman & Nicobar Islands'] = state_id_map['Andaman & Nicobar']\n",
    "state_id_map['Chattisgarh'] = state_id_map['Chhattisgarh']\n",
    "state_id_map['Orissa'] = state_id_map['Odisha']\n",
    "state_id_map['Pondicherry'] = state_id_map['Puducherry']\n",
    "state_id_map['Dadra & Nagar Haveli'] = state_id_map['Dadra and Nagar Haveli and Daman and Diu']\n",
    "state_id_map['Daman & Diu'] = state_id_map['Dadra and Nagar Haveli and Daman and Diu']\n",
    "state_id_map['Uttaranchal'] = state_id_map['Uttarakhand']"
   ]
  },
  {
   "cell_type": "code",
   "execution_count": 7,
   "metadata": {},
   "outputs": [],
   "source": [
    "df['id'] = df['State'].apply(lambda x: state_id_map[x])"
   ]
  },
  {
   "cell_type": "code",
   "execution_count": 8,
   "metadata": {},
   "outputs": [],
   "source": [
    "def plot_rainfall(month, year):\n",
    "    # choose data for the year 2002\n",
    "    df_dynamic = df[df['Year'] == year]\n",
    "    # group the data by state\n",
    "    df_dynamic = df_dynamic.groupby('State')\n",
    "    # calculate the mean of the rainfall for that month for each state\n",
    "    df_dynamic = df_dynamic[month].mean().reset_index()\n",
    "    # add the id column to the dataframe\n",
    "    df_dynamic['id'] = df_dynamic['State'].apply(lambda x: state_id_map[x])\n",
    "    # plot the choropleth map\n",
    "    fig = px.choropleth(df_dynamic, geojson=india, locations='id', color=month, hover_name='State', hover_data=[month])\n",
    "    fig.update_geos(fitbounds='locations', visible=False)\n",
    "    # make the figure background transparent and text color white\n",
    "    fig.update_layout(margin={\"r\":0,\"t\":0,\"l\":0,\"b\":0}, paper_bgcolor='rgba(0,0,0,0)', plot_bgcolor='rgba(0,0,0,0)', font_color='white')\n",
    "    return fig"
   ]
  },
  {
   "cell_type": "code",
   "execution_count": 9,
   "metadata": {},
   "outputs": [],
   "source": [
    "district_id_map = {}\n",
    "for i in range(len(districts)):\n",
    "    district_id_map[districts['NAME_2'][i]] = districts['ID_2'][i]\n",
    "    # if var2 is not None: then split var2 by , or | and add to dict\n",
    "    if districts['VARNAME_2'][i] is not np.nan:\n",
    "        if '|' in districts['VARNAME_2'][i]:\n",
    "            for var2 in districts['VARNAME_2'][i].split('|'):\n",
    "                district_id_map[var2] = districts['ID_2'][i]\n",
    "        elif ',' in districts['VARNAME_2'][i]:\n",
    "            for var2 in districts['VARNAME_2'][i].split(','):\n",
    "                # remove spaces\n",
    "                var2 = var2.strip()\n",
    "                district_id_map[var2] = districts['ID_2'][i]\n",
    "        else:\n",
    "            district_id_map[districts['VARNAME_2'][i]] = districts['ID_2'][i]"
   ]
  },
  {
   "cell_type": "code",
   "execution_count": 10,
   "metadata": {},
   "outputs": [],
   "source": [
    "district_id_map['Andaman'] = district_id_map['Andaman Islands']\n",
    "district_id_map['Nicobar'] = district_id_map['Nicobar Islands']\n",
    "district_id_map['Dibang Valley'] = district_id_map['Lower Dibang Valley']\n",
    "district_id_map['Dhubri'] = district_id_map['Dhuburi']\n",
    "district_id_map['Golapara'] = district_id_map['Goalpara']\n",
    "district_id_map['Paschim Champaran'] = district_id_map['West Champaran']\n",
    "district_id_map['Rajnandgaon'] = district_id_map['Raj Nandgaon']\n",
    "district_id_map['Dadra & Nagar Haveli'] = district_id_map['Dadra and Nagar Haveli']\n",
    "district_id_map['New Delhi'] = district_id_map['Delhi']\n",
    "district_id_map['Yamunanagar'] = district_id_map['Yamuna Nagar']\n",
    "district_id_map['Lahul & Spiti'] = district_id_map['Lahul and Spiti']\n",
    "district_id_map['Anantanag'] = district_id_map['Anantnag (Kashmir South)']\n",
    "district_id_map['Badgam'] = district_id_map['Bagdam']\n",
    "district_id_map['Baramula'] = district_id_map['Baramula (Kashmir North)']\n",
    "district_id_map['Kupwara'] = district_id_map['Kupwara (Muzaffarabad)']\n",
    "district_id_map['Leh'] = district_id_map['Ladakh (Leh)']\n",
    "district_id_map['Garwah'] = district_id_map['Garhwa']\n",
    "district_id_map['Hazaribagh'] = district_id_map['Hazaribag']\n",
    "district_id_map['Kodarma'] = district_id_map['Koderma']\n",
    "district_id_map['Pakaur'] = district_id_map['Pakur']\n",
    "district_id_map['West Singbhum'] = district_id_map['Singhbhum West']\n",
    "district_id_map['East Singbhum'] = district_id_map['Singhbhum East']\n",
    "district_id_map['Bangalore'] = district_id_map['Bangalore Urban']\n",
    "district_id_map['Chamarajanagar'] = district_id_map['Chamrajnagar']\n",
    "district_id_map['Chikmangalur'] = district_id_map['Chikmagalur']\n",
    "district_id_map['Dakshina Kannada'] = district_id_map['Dakshin Kannad']\n",
    "district_id_map['Uttara Kannada'] = district_id_map['Uttar Kannand']\n",
    "district_id_map['Pathanamthitta'] = district_id_map['Pattanamtitta']\n",
    "district_id_map['Gadchiroli'] = district_id_map['Garhchiroli']\n",
    "district_id_map['Mumbai'] = district_id_map['Greater Bombay']\n",
    "district_id_map['Mumbai (Suburban)'] = district_id_map['Greater Bombay']\n",
    "district_id_map['Imphal East'] = district_id_map['East Imphal']\n",
    "district_id_map['Imphal West'] = district_id_map['West Imphal']\n",
    "district_id_map['Aizwal'] = district_id_map['Aizawl']\n",
    "district_id_map['Anugul'] = district_id_map['Angul']\n",
    "district_id_map['Bargarh'] = district_id_map['Baragarh']\n",
    "district_id_map['Baudh'] = district_id_map['Boudh']\n",
    "district_id_map['Jagatsinghapur'] = district_id_map['Jagatsinghpur']\n",
    "district_id_map['Jajapur'] = district_id_map['Jajpur']\n",
    "district_id_map['Nabarangapur'] = district_id_map['Nabarangpur']\n",
    "district_id_map['Sonapur'] = district_id_map['Sonepur']\n",
    "district_id_map['Pondicherry'] = district_id_map['Puducherry']\n",
    "district_id_map['Nawanshahr'] = district_id_map['Nawan Shehar']\n",
    "district_id_map['East Sikkim'] = district_id_map['East']\n",
    "district_id_map['Sikkim'] = district_id_map['West Sikkim']\n",
    "district_id_map['Imphal East'] = district_id_map['East Imphal']\n",
    "district_id_map['Imphal'] = district_id_map['West Imphal']\n",
    "district_id_map['The Nilgiris'] = district_id_map['Nilgiris']\n",
    "district_id_map['Thoothukkudi'] = district_id_map['Thoothukudi']\n",
    "district_id_map['Tiruchirapalli'] = district_id_map['Tiruchchirappalli']\n",
    "district_id_map['Tirunelveli'] = district_id_map['Tirunelveli Kattabo']\n",
    "district_id_map['Viluppuram'] = district_id_map['Villupuram']\n",
    "district_id_map['Barabanki'] = district_id_map['Bara Banki']\n",
    "district_id_map['Budaun'] = district_id_map['Badaun']\n",
    "district_id_map['Sant Ravidas Nagar'] = district_id_map['Sant Ravi Das Nagar']\n",
    "district_id_map['Shrawasti'] = district_id_map['Shravasti']\n",
    "district_id_map['Dehradun'] = district_id_map['Dehra Dun']\n",
    "district_id_map['Nainital'] = district_id_map['Naini Tal']\n",
    "district_id_map['Rudraprayag'] = district_id_map['Rudra Prayag']\n",
    "district_id_map['Burdwan'] = district_id_map['Barddhaman']\n",
    "district_id_map['Cooch Behar'] = district_id_map['Kochbihar']\n",
    "district_id_map['South Dinajpur'] = district_id_map['Dakshin Dinajpur']\n",
    "district_id_map['Darjeeling'] = district_id_map['Darjiling']\n",
    "district_id_map['Howrah'] = district_id_map['Haora']\n",
    "district_id_map['Hooghly'] = district_id_map['Hugli']\n",
    "district_id_map['Malda'] = district_id_map['Maldah']\n",
    "district_id_map['Midnapore'] = district_id_map['West Midnapore']\n",
    "district_id_map['Purulia'] = district_id_map['Puruliya']\n",
    "district_id_map['Lakshadweep'] = district_id_map['Kavaratti']\n",
    "district_id_map['Goa'] = district_id_map['North Goa']"
   ]
  },
  {
   "cell_type": "code",
   "execution_count": 11,
   "metadata": {},
   "outputs": [
    {
     "data": {
      "text/html": [
       "<div>\n",
       "<style scoped>\n",
       "    .dataframe tbody tr th:only-of-type {\n",
       "        vertical-align: middle;\n",
       "    }\n",
       "\n",
       "    .dataframe tbody tr th {\n",
       "        vertical-align: top;\n",
       "    }\n",
       "\n",
       "    .dataframe thead th {\n",
       "        text-align: right;\n",
       "    }\n",
       "</style>\n",
       "<table border=\"1\" class=\"dataframe\">\n",
       "  <thead>\n",
       "    <tr style=\"text-align: right;\">\n",
       "      <th></th>\n",
       "      <th>State</th>\n",
       "      <th>District</th>\n",
       "      <th>Year</th>\n",
       "      <th>Jan</th>\n",
       "      <th>Feb</th>\n",
       "      <th>Mar</th>\n",
       "      <th>Apr</th>\n",
       "      <th>May</th>\n",
       "      <th>Jun</th>\n",
       "      <th>Jul</th>\n",
       "      <th>Aug</th>\n",
       "      <th>Sep</th>\n",
       "      <th>Oct</th>\n",
       "      <th>Nov</th>\n",
       "      <th>Dec</th>\n",
       "      <th>vlookup</th>\n",
       "      <th>id</th>\n",
       "      <th>ID_2</th>\n",
       "    </tr>\n",
       "  </thead>\n",
       "  <tbody>\n",
       "    <tr>\n",
       "      <th>0</th>\n",
       "      <td>Andaman &amp; Nicobar Islands</td>\n",
       "      <td>Andaman</td>\n",
       "      <td>NaN</td>\n",
       "      <td>NaN</td>\n",
       "      <td>NaN</td>\n",
       "      <td>NaN</td>\n",
       "      <td>NaN</td>\n",
       "      <td>NaN</td>\n",
       "      <td>NaN</td>\n",
       "      <td>NaN</td>\n",
       "      <td>NaN</td>\n",
       "      <td>NaN</td>\n",
       "      <td>NaN</td>\n",
       "      <td>NaN</td>\n",
       "      <td>NaN</td>\n",
       "      <td>Andaman &amp; Nicobar IslandsAndaman</td>\n",
       "      <td>Andaman &amp; Nicobar</td>\n",
       "      <td>1</td>\n",
       "    </tr>\n",
       "    <tr>\n",
       "      <th>1</th>\n",
       "      <td>Andaman &amp; Nicobar Islands</td>\n",
       "      <td>Nicobar</td>\n",
       "      <td>NaN</td>\n",
       "      <td>NaN</td>\n",
       "      <td>NaN</td>\n",
       "      <td>NaN</td>\n",
       "      <td>NaN</td>\n",
       "      <td>NaN</td>\n",
       "      <td>NaN</td>\n",
       "      <td>NaN</td>\n",
       "      <td>NaN</td>\n",
       "      <td>NaN</td>\n",
       "      <td>NaN</td>\n",
       "      <td>NaN</td>\n",
       "      <td>NaN</td>\n",
       "      <td>Andaman &amp; Nicobar IslandsNicobar</td>\n",
       "      <td>Andaman &amp; Nicobar</td>\n",
       "      <td>2</td>\n",
       "    </tr>\n",
       "    <tr>\n",
       "      <th>2</th>\n",
       "      <td>Andhra Pradesh</td>\n",
       "      <td>Adilabad</td>\n",
       "      <td>1901.0</td>\n",
       "      <td>6.725</td>\n",
       "      <td>10.488</td>\n",
       "      <td>23.288</td>\n",
       "      <td>35.560</td>\n",
       "      <td>23.119</td>\n",
       "      <td>115.546</td>\n",
       "      <td>294.119</td>\n",
       "      <td>276.865</td>\n",
       "      <td>181.615</td>\n",
       "      <td>47.310</td>\n",
       "      <td>1.339</td>\n",
       "      <td>0.000</td>\n",
       "      <td>Andhra PradeshAdilabad</td>\n",
       "      <td>Andhra Pradesh</td>\n",
       "      <td>3</td>\n",
       "    </tr>\n",
       "    <tr>\n",
       "      <th>3</th>\n",
       "      <td>Andhra Pradesh</td>\n",
       "      <td>Adilabad</td>\n",
       "      <td>1902.0</td>\n",
       "      <td>0.420</td>\n",
       "      <td>0.000</td>\n",
       "      <td>0.388</td>\n",
       "      <td>6.070</td>\n",
       "      <td>3.331</td>\n",
       "      <td>45.960</td>\n",
       "      <td>233.973</td>\n",
       "      <td>167.971</td>\n",
       "      <td>198.177</td>\n",
       "      <td>26.447</td>\n",
       "      <td>35.083</td>\n",
       "      <td>11.222</td>\n",
       "      <td>Andhra PradeshAdilabad</td>\n",
       "      <td>Andhra Pradesh</td>\n",
       "      <td>3</td>\n",
       "    </tr>\n",
       "    <tr>\n",
       "      <th>4</th>\n",
       "      <td>Andhra Pradesh</td>\n",
       "      <td>Adilabad</td>\n",
       "      <td>1903.0</td>\n",
       "      <td>6.643</td>\n",
       "      <td>1.956</td>\n",
       "      <td>0.173</td>\n",
       "      <td>4.551</td>\n",
       "      <td>33.348</td>\n",
       "      <td>132.078</td>\n",
       "      <td>436.611</td>\n",
       "      <td>334.544</td>\n",
       "      <td>226.037</td>\n",
       "      <td>138.818</td>\n",
       "      <td>14.095</td>\n",
       "      <td>8.823</td>\n",
       "      <td>Andhra PradeshAdilabad</td>\n",
       "      <td>Andhra Pradesh</td>\n",
       "      <td>3</td>\n",
       "    </tr>\n",
       "  </tbody>\n",
       "</table>\n",
       "</div>"
      ],
      "text/plain": [
       "                       State  District    Year    Jan     Feb     Mar     Apr   \n",
       "0  Andaman & Nicobar Islands   Andaman     NaN    NaN     NaN     NaN     NaN  \\\n",
       "1  Andaman & Nicobar Islands   Nicobar     NaN    NaN     NaN     NaN     NaN   \n",
       "2             Andhra Pradesh  Adilabad  1901.0  6.725  10.488  23.288  35.560   \n",
       "3             Andhra Pradesh  Adilabad  1902.0  0.420   0.000   0.388   6.070   \n",
       "4             Andhra Pradesh  Adilabad  1903.0  6.643   1.956   0.173   4.551   \n",
       "\n",
       "      May      Jun      Jul      Aug      Sep      Oct     Nov     Dec   \n",
       "0     NaN      NaN      NaN      NaN      NaN      NaN     NaN     NaN  \\\n",
       "1     NaN      NaN      NaN      NaN      NaN      NaN     NaN     NaN   \n",
       "2  23.119  115.546  294.119  276.865  181.615   47.310   1.339   0.000   \n",
       "3   3.331   45.960  233.973  167.971  198.177   26.447  35.083  11.222   \n",
       "4  33.348  132.078  436.611  334.544  226.037  138.818  14.095   8.823   \n",
       "\n",
       "                            vlookup                 id  ID_2  \n",
       "0  Andaman & Nicobar IslandsAndaman  Andaman & Nicobar     1  \n",
       "1  Andaman & Nicobar IslandsNicobar  Andaman & Nicobar     2  \n",
       "2            Andhra PradeshAdilabad     Andhra Pradesh     3  \n",
       "3            Andhra PradeshAdilabad     Andhra Pradesh     3  \n",
       "4            Andhra PradeshAdilabad     Andhra Pradesh     3  "
      ]
     },
     "execution_count": 11,
     "metadata": {},
     "output_type": "execute_result"
    }
   ],
   "source": [
    "df['ID_2'] = df['District'].apply(lambda x: district_id_map[x])"
   ]
  },
  {
   "cell_type": "code",
   "execution_count": 12,
   "metadata": {},
   "outputs": [],
   "source": [
    "state_id_map['Andaman and Nicobar'] = state_id_map['Andaman & Nicobar']\n",
    "state_id_map['Dadra and Nagar Haveli'] = state_id_map['Dadra & Nagar Haveli']\n",
    "state_id_map['Daman and Diu'] = state_id_map['Daman & Diu']\n",
    "state_id_map['Jammu and Kashmir'] = state_id_map['Jammu & Kashmir']"
   ]
  },
  {
   "cell_type": "code",
   "execution_count": 13,
   "metadata": {},
   "outputs": [],
   "source": [
    "districts['sid'] = districts['NAME_1'].apply(lambda x: state_id_map[x])"
   ]
  },
  {
   "cell_type": "code",
   "execution_count": 14,
   "metadata": {},
   "outputs": [],
   "source": [
    "def state_map(month, year, state_id):\n",
    "    # choose data for the year and state\n",
    "    df_dynamic = df[df['Year'] == year]\n",
    "    df_dynamic = df_dynamic[df_dynamic['id'] == state_id]\n",
    "    # choose the map for the state\n",
    "    districts_dynamic = districts[districts['sid'] == state_id]\n",
    "    # name  the ID_2 column as id\n",
    "    districts_dynamic = districts_dynamic.rename(columns={'ID_2': 'id'})\n",
    "    # specify this id as featureid key\n",
    "    districts_dynamic['id'] = districts_dynamic['id'].astype(str)\n",
    "    districts_dynamic = districts_dynamic.set_index('id')\n",
    "    districts_dynamic = districts_dynamic.to_json()\n",
    "    districts_dynamic = json.loads(districts_dynamic)\n",
    "    district_fig = px.choropleth(df_dynamic, geojson=districts_dynamic, locations='ID_2', color=month, hover_name='District')\n",
    "    district_fig.update_geos(fitbounds='locations', visible=False)\n",
    "    # make background transparent\n",
    "    district_fig.update_layout(margin={\"r\":0,\"t\":0,\"l\":0,\"b\":0}, paper_bgcolor='rgba(0,0,0,0)', plot_bgcolor='rgba(0,0,0,0)')\n",
    "    # make text white\n",
    "    district_fig.update_layout(font_color='white')\n",
    "    return district_fig"
   ]
  },
  {
   "cell_type": "code",
   "execution_count": 15,
   "metadata": {},
   "outputs": [],
   "source": [
    "# Create the app\n",
    "app = dash.Dash(__name__)"
   ]
  },
  {
   "cell_type": "code",
   "execution_count": 16,
   "metadata": {
    "tags": []
   },
   "outputs": [],
   "source": [
    "# Create the layout\n",
    "app.layout = html.Div([\n",
    "    html.H1('India District Level Data'),\n",
    "    html.H2('Hover over the map to see the rainfall'),\n",
    "    html.H3('Choose year'),\n",
    "    dcc.Slider(\n",
    "        id='year',\n",
    "        min=df['Year'].min(),\n",
    "        max=df['Year'].max(),\n",
    "        value=df['Year'].max(),\n",
    "        # make this slider smaoother and place it in the center\n",
    "        marks={str(year): str(year) for year in df['Year'].unique()},\n",
    "        step=None, included=False, updatemode='drag',\n",
    "        tooltip={'always_visible': True, 'placement': 'bottom'},\n",
    "    ),\n",
    "    html.H3('Choose month'),\n",
    "    dcc.Dropdown(\n",
    "        id='month',\n",
    "        options=[ {'label': i, 'value': i} for i in df.columns[3:15] ],\n",
    "        value='Jan'\n",
    "        # make this dropdown smaller and place it in the center\n",
    "        , style={'width': '40%', 'margin': 'auto','border': '2px solid black'}\n",
    "    ),\n",
    "    html.Div([\n",
    "    html.H3('India Map'),\n",
    "    html.H4('Click on the state to see the district map'),\n",
    "    dcc.Graph(id='india_map', figure=plot_rainfall('Jan', 2002),style={'border': '2px solid black'}),\n",
    "    html.H3('State Map'),\n",
    "    html.H4('Move cursor over the district to see the rainfall'),\n",
    "    dcc.Graph(id='district_map', figure=state_map('Jan', 2002, 'Bihar'),style={'border': '2px solid black'})\n",
    "    ], \n",
    "    # display the india map and state map side by side\n",
    "    style={'columnCount': 2}),\n",
    "\n",
    "    html.Div([\n",
    "        html.H1('SUMMARY', style={'text-align':'center'})\n",
    "    ]),\n",
    "    html.Div([\n",
    "        ## add label to centre\n",
    "        html.H4('Yearly Rainfall', style={'text-align':'center'}),\n",
    "        dcc.Dropdown(\n",
    "            id='first-dropdown',\n",
    "            value='Andhra Pradesh',\n",
    "            options=ll,\n",
    "            style={'width':'300px','height':'40px', 'margin':'auto','border': '2px solid black'}\n",
    "            # style={'border': '2px solid black'}\n",
    "\n",
    "        ),\n",
    "        dcc.Graph(\n",
    "        figure=fig,\n",
    "        id='example',\n",
    "        style={'border': '2px solid black'}\n",
    "        ),\n",
    "    ],\n",
    "    ),\n",
    "    html.Div([\n",
    "        html.H4('Yearly Rainfall Comparision', style={'text-align':'center'}),\n",
    "        dcc.Dropdown(\n",
    "            id='second-dropdown',\n",
    "            value='Andhra Pradesh',\n",
    "            options=ll,\n",
    "            style={'width':'300px','height':'40px', 'margin':'auto','border': '2px solid black'}),\n",
    "        dcc.Dropdown(\n",
    "            id='third-dropdown',\n",
    "            value='Bihar',\n",
    "            options=ll,\n",
    "            style={'width':'300px','height':'40px', 'margin':'auto','border': '2px solid black'}),\n",
    "        dcc.Graph(\n",
    "            figure=fig1,\n",
    "            id='example1',\n",
    "            style={'border': '2px solid black'}\n",
    "        )\n",
    "    ]),\n",
    "    html.Div([\n",
    "        html.H4('Month-wise Average Rainfall', style={'text-align':'center'}),\n",
    "        dcc.Dropdown(\n",
    "            id='fourth-dropdown',\n",
    "            value='January',\n",
    "            options=month_list,\n",
    "            style={'width':'300px','height':'40px', 'margin':'auto','border': '2px solid black'}),\n",
    "            # style={'border': '2px solid black'}),\n",
    "        dcc.Graph(\n",
    "            \n",
    "            figure=fig2,\n",
    "            id='example2',\n",
    "            style={'border': '2px solid black'}\n",
    "        )\n",
    "    ]),\n",
    "    html.Div([\n",
    "        ## add label to centre\n",
    "        html.H4('Overall Yearwise Rainfall in India', style={'text-align':'center'}),\n",
    "        \n",
    "        dcc.Graph(\n",
    "        figure=fig3,\n",
    "        id='example3',\n",
    "        style={'border': '2px solid black'}\n",
    "        ),\n",
    "    ],\n",
    "    ),\n",
    "], style={'textAlign': 'center', 'color':'#000000', 'backgroundColor':'rgb(105, 145, 181)'})\n",
    "\n",
    "# Create the callback\n",
    "@app.callback(\n",
    "    Output('district_map', 'figure'),\n",
    "    [Input('month', 'value'), Input('year', 'value'), Input('india_map', 'clickData')]\n",
    ")\n",
    "def update_map(month, year, state_id):\n",
    "    if state_id is None:\n",
    "        state_id = 'Bihar'\n",
    "    else:\n",
    "        state_id = state_id['points'][0]['location']\n",
    "    return state_map(month, year, state_id)\n",
    "\n",
    "# callback for the india map\n",
    "@app.callback(\n",
    "    Output('india_map', 'figure'),\n",
    "    [Input('month', 'value'), Input('year', 'value')]\n",
    ")\n",
    "def update_map(month, year):\n",
    "    return plot_rainfall(month, year)\n",
    "\n",
    "@app.callback(\n",
    "    dash.dependencies.Output('example', 'figure'),\n",
    "    [dash.dependencies.Input('first-dropdown', 'value')])\n",
    "def update_figure(selected_state):\n",
    "    data_sum = data1.get_group(selected_state).groupby('Year').sum()['Sum']/data.groupby(\n",
    "    'State').get_group(selected_state).groupby('District').nunique().count()[0]\n",
    "    max_index = data_sum.idxmax()\n",
    "    min_index = data_sum.idxmin()\n",
    "    fig = px.line(data, x=data_sum.index, y=data_sum)\n",
    "    fig.add_annotation(x=max_index, y=data_sum[max_index],\n",
    "                       text=\"Max: {:.2f}\".format(data_sum[max_index]),\n",
    "                       showarrow=True, arrowhead=1)\n",
    "    fig.add_annotation(x=min_index, y=data_sum[min_index],\n",
    "                       text=\"Min: {:.2f}\".format(data_sum[min_index]),\n",
    "                       showarrow=True, arrowhead=1)\n",
    "    fig.update_layout(height=400, showlegend=False)\n",
    "    fig.update_xaxes(title_text='Year')\n",
    "    fig.update_yaxes(title_text='Rainfall')\n",
    "    # update the title\n",
    "    fig.update_layout(title_text='Yearwise rainfall of '+selected_state)\n",
    "    return fig\n",
    "\n",
    "@app.callback(\n",
    "    dash.dependencies.Output('example1', 'figure'),\n",
    "    [dash.dependencies.Input('second-dropdown', 'value'),\n",
    "        dash.dependencies.Input('third-dropdown', 'value')])\n",
    "def update_figure(selected_state, selected_state1):\n",
    "    data_sum = data1.get_group(selected_state).groupby('Year').sum()['Sum']/data.groupby(\n",
    "    'State').get_group(selected_state).groupby('District').nunique().count()[0]\n",
    "    data_sum1 = data1.get_group(selected_state1).groupby('Year').sum()['Sum']/data.groupby(\n",
    "    'State').get_group(selected_state1).groupby('District').nunique().count()[0]\n",
    "    max_index = data_sum.idxmax()\n",
    "    min_index = data_sum.idxmin()\n",
    "    fig = px.line(data, x=data_sum.index, y=data_sum)\n",
    "    fig.add_scatter(x=data_sum1.index, y=data_sum1)\n",
    "    fig.update_layout(height=400, showlegend=True,legend=dict(traceorder=\"grouped\",title_text=selected_state1))\n",
    "    fig.update_xaxes(title_text='Year')\n",
    "    fig.update_yaxes(title_text='Rainfall')\n",
    "    # update label for different state\n",
    "    fig.update_traces(marker_color='red', selector=dict(name=selected_state1))\n",
    "    \n",
    "    # update the title\n",
    "    fig.update_layout(title_text='Yearwise rainfall of '+selected_state+' and '+selected_state1)\n",
    "    return fig\n",
    "\n",
    "@app.callback(\n",
    "    dash.dependencies.Output('example2', 'figure'),\n",
    "    [dash.dependencies.Input('fourth-dropdown', 'value')])\n",
    "def update_figure(select_month):\n",
    "    temp=0\n",
    "    if(select_month=='January'):\n",
    "        temp=1\n",
    "    elif(select_month=='February'):\n",
    "        temp=2\n",
    "    elif(select_month=='March'):\n",
    "        temp=3\n",
    "    elif(select_month=='April'):\n",
    "        temp=4\n",
    "    elif(select_month=='May'):\n",
    "        temp=5\n",
    "    elif(select_month=='June'):\n",
    "        temp=6\n",
    "    elif(select_month=='July'):\n",
    "        temp=7\n",
    "    elif(select_month=='August'):\n",
    "        temp=8\n",
    "    elif(select_month=='September'):\n",
    "        temp=9\n",
    "    elif(select_month=='October'):\n",
    "        temp=10\n",
    "    elif(select_month=='November'):\n",
    "        temp=11\n",
    "    elif(select_month=='December'):\n",
    "        temp=12\n",
    "    \n",
    "    \n",
    "    fig=go.Figure(data=[go.Pie(labels=df_arr.iloc[0], values=df_arr.iloc[temp],title='Rainfall in' + select_month + ' in different states')])\n",
    "    fig.update_layout(height=600, showlegend=True)\n",
    "    return fig\n",
    "\n"
   ]
  },
  {
   "cell_type": "code",
   "execution_count": 17,
   "metadata": {},
   "outputs": [
    {
     "name": "stdout",
     "output_type": "stream",
     "text": [
      "Dash is running on http://127.0.0.1:8050/\n",
      "\n",
      " * Serving Flask app '__main__'\n",
      " * Debug mode: off\n"
     ]
    },
    {
     "name": "stderr",
     "output_type": "stream",
     "text": [
      "WARNING: This is a development server. Do not use it in a production deployment. Use a production WSGI server instead.\n",
      " * Running on http://127.0.0.1:8050\n",
      "Press CTRL+C to quit\n",
      "127.0.0.1 - - [21/Apr/2023 23:00:46] \"GET / HTTP/1.1\" 200 -\n",
      "127.0.0.1 - - [21/Apr/2023 23:00:46] \"GET /_dash-component-suites/dash/deps/prop-types@15.v2_9_2m1680799715.8.1.min.js HTTP/1.1\" 200 -\n",
      "127.0.0.1 - - [21/Apr/2023 23:00:46] \"GET /_dash-component-suites/dash/deps/react-dom@16.v2_9_2m1680799715.14.0.min.js HTTP/1.1\" 200 -\n",
      "127.0.0.1 - - [21/Apr/2023 23:00:46] \"GET /_dash-component-suites/dash/deps/react@16.v2_9_2m1680799715.14.0.min.js HTTP/1.1\" 200 -\n",
      "127.0.0.1 - - [21/Apr/2023 23:00:47] \"GET /_dash-component-suites/dash/deps/polyfill@7.v2_9_2m1680799715.12.1.min.js HTTP/1.1\" 200 -\n",
      "127.0.0.1 - - [21/Apr/2023 23:00:47] \"GET /_dash-component-suites/dash/dcc/dash_core_components-shared.v2_9_1m1680799715.js HTTP/1.1\" 200 -\n",
      "127.0.0.1 - - [21/Apr/2023 23:00:47] \"GET /_dash-component-suites/dash/dash_table/bundle.v5_2_4m1680799715.js HTTP/1.1\" 200 -\n",
      "127.0.0.1 - - [21/Apr/2023 23:00:47] \"GET /_dash-component-suites/dash/dash-renderer/build/dash_renderer.v2_9_2m1680799715.min.js HTTP/1.1\" 200 -\n",
      "127.0.0.1 - - [21/Apr/2023 23:00:47] \"GET /_dash-component-suites/dash/html/dash_html_components.v2_0_10m1680799716.min.js HTTP/1.1\" 200 -\n",
      "127.0.0.1 - - [21/Apr/2023 23:00:47] \"GET /_dash-component-suites/dash/dcc/dash_core_components.v2_9_1m1680799715.js HTTP/1.1\" 200 -\n",
      "127.0.0.1 - - [21/Apr/2023 23:00:47] \"GET /_dash-dependencies HTTP/1.1\" 200 -\n",
      "127.0.0.1 - - [21/Apr/2023 23:00:47] \"GET /_dash-layout HTTP/1.1\" 200 -\n",
      "127.0.0.1 - - [21/Apr/2023 23:00:49] \"GET /_dash-component-suites/dash/dcc/async-graph.js HTTP/1.1\" 200 -\n",
      "127.0.0.1 - - [21/Apr/2023 23:00:49] \"GET /_dash-component-suites/dash/dcc/async-dropdown.js HTTP/1.1\" 200 -\n",
      "127.0.0.1 - - [21/Apr/2023 23:00:49] \"GET /_dash-component-suites/dash/dcc/async-slider.js HTTP/1.1\" 200 -\n",
      "127.0.0.1 - - [21/Apr/2023 23:00:50] \"POST /_dash-update-component HTTP/1.1\" 200 -\n",
      "127.0.0.1 - - [21/Apr/2023 23:00:50] \"GET /_dash-component-suites/dash/dcc/async-plotlyjs.js HTTP/1.1\" 200 -\n",
      "127.0.0.1 - - [21/Apr/2023 23:00:51] \"POST /_dash-update-component HTTP/1.1\" 200 -\n",
      "127.0.0.1 - - [21/Apr/2023 23:00:51] \"POST /_dash-update-component HTTP/1.1\" 200 -\n",
      "127.0.0.1 - - [21/Apr/2023 23:00:51] \"POST /_dash-update-component HTTP/1.1\" 200 -\n",
      "127.0.0.1 - - [21/Apr/2023 23:00:52] \"POST /_dash-update-component HTTP/1.1\" 200 -\n",
      "127.0.0.1 - - [21/Apr/2023 23:01:04] \"POST /_dash-update-component HTTP/1.1\" 200 -\n",
      "127.0.0.1 - - [21/Apr/2023 23:01:05] \"POST /_dash-update-component HTTP/1.1\" 200 -\n",
      "127.0.0.1 - - [21/Apr/2023 23:01:16] \"POST /_dash-update-component HTTP/1.1\" 200 -\n",
      "127.0.0.1 - - [21/Apr/2023 23:01:17] \"POST /_dash-update-component HTTP/1.1\" 200 -\n",
      "127.0.0.1 - - [21/Apr/2023 23:01:23] \"POST /_dash-update-component HTTP/1.1\" 200 -\n"
     ]
    }
   ],
   "source": [
    "# Run the app\n",
    "if __name__ == '__main__':\n",
    "    app.run_server()"
   ]
  }
 ],
 "metadata": {
  "kernelspec": {
   "display_name": "Python 3",
   "language": "python",
   "name": "python3"
  },
  "language_info": {
   "codemirror_mode": {
    "name": "ipython",
    "version": 3
   },
   "file_extension": ".py",
   "mimetype": "text/x-python",
   "name": "python",
   "nbconvert_exporter": "python",
   "pygments_lexer": "ipython3",
   "version": "3.10.9"
  },
  "orig_nbformat": 4
 },
 "nbformat": 4,
 "nbformat_minor": 2
}
